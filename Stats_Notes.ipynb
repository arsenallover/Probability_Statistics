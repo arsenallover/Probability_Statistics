{
 "metadata": {
  "language_info": {
   "codemirror_mode": {
    "name": "ipython",
    "version": 3
   },
   "file_extension": ".py",
   "mimetype": "text/x-python",
   "name": "python",
   "nbconvert_exporter": "python",
   "pygments_lexer": "ipython3",
   "version": "3.7.9-final"
  },
  "orig_nbformat": 2,
  "kernelspec": {
   "name": "Python 3.7.9 64-bit ('tf2.0': conda)",
   "display_name": "Python 3.7.9 64-bit ('tf2.0': conda)",
   "metadata": {
    "interpreter": {
     "hash": "22b3a9e511cc71c7e8c0c199ed3ba2f3f697f01009167188cfc9ddfa1a3c5b27"
    }
   }
  }
 },
 "nbformat": 4,
 "nbformat_minor": 2,
 "cells": [
  {
   "source": [
    "## Parameter Vs Statistic\n",
    "\n",
    "* Parameter - characteristic of population. Often unknown or want to be known\n",
    "* Statistic - characteristic of sample. Often use inference to describe population\n",
    "\n",
    "## Sampling Bias\n",
    "* Selection Bias : Favours likely to people responding to surveys\n",
    "* Survivorship Bias :  logical error of concentrating on the things that made it past some selection process and overlooking those that did not, typically because of their lack of visibility. Aircraft surviving bullets and returned and focussing only on those returned might forlook those didnt return and might have damaged seriously. The areas of those areas hit by retuned aircraft are not that critical bcos it survived\n",
    "\n",
    "## Sampling\n",
    "* Random - Every member had equal chance\n",
    "* Startified - Every Member are adequately represented\n",
    "* Clustering - Break down into groups and Randomly select from groups. Can save cost, ex firm surveying handful of chosen neighbours from clusters rather entire city. Aka convenience Sampling \n",
    "\n",
    "## Central Limit Theorem\n",
    "* As we collect multiple samples, each mean will fall somewhere close to population mean"
   ],
   "cell_type": "markdown",
   "metadata": {}
  },
  {
   "source": [
    "## Standard Error\n",
    "* SE of mean : how far the sample mean may stray away from population mean\n",
    "\n",
    "* $ SE = \\frac{\\sigma}{\\sqrt n} $ where $sigma$ is pop stddev (assuming its known)\n",
    "\n",
    "## Confidence Interval\n",
    "* CE = 2*SE -2*SE"
   ],
   "cell_type": "markdown",
   "metadata": {}
  },
  {
   "source": [
    "## Hypothesis Testing\n",
    "\n",
    "### Framing Hypothesis\n",
    "* If testing something assumed to be true -> H0 can reflect assumption\n",
    "    * Ex : our prod avg weight = 3.5kg\n",
    "    * H0 : avg weight = 3.5kg, H1 : avg weight != 3.5 kg\n",
    "\n",
    "* If testing claim we want to be true but cant assume -> H0 opposite of claim\n",
    "    * Ex : prep could improve test score\n",
    "    * H0 : Old score >= new score, H1 : old score < new score\n",
    "\n",
    "* Types of Null Hypothesis:\n",
    "    * Has equality =, <=, >= \n",
    "\n",
    "* Types of Alternate Hypothesis:\n",
    "    * Has no equality !=, <, > \n",
    "\n",
    "* Assuming ur testing fairness of coin. H0 : not fair coin. If we get only H in 20 times -> prob of getting such is very low -> pvalue is low -> fail to reject null\n",
    "\n",
    "* $\\alpha$ : Level of significance\n",
    "    * If $\\alpha$ is tail area inside null Hypothesis\n",
    "    * If $\\alpha$ = 0.05 if H1 < null -> left tail of curve has area 0.05\n",
    "    * If $\\alpha$ = 0.05 if H1 > null -> right tail of curve has area 0.05\n",
    "    * If $\\alpha$ = 0.05 if H1 != null -> left & right tail of curve has area 0.025 each\n",
    "    * The values at those $\\alpha$ can corresponds to zscores\n",
    "    \n",
    "* Pvalue test:\n",
    "    * Take test statistic (zscores)\n",
    "    * Use it to determine pvalue\n",
    "    * Compare pvalue with level of significance ($\\alpha$)"
   ],
   "cell_type": "markdown",
   "metadata": {}
  },
  {
   "source": [
    "## Errors\n",
    "\n",
    "* Type 1 Error: FP -> Reject Null when its True (H0 = No fire; Result = pull fire alarm)\n",
    "* Type 2 Error: FN -> Fail to Reject Null when its False (H0 = No fire; Result = Fail to pull fire alarm & there's fire)\n"
   ],
   "cell_type": "markdown",
   "metadata": {}
  },
  {
   "source": [
    "## Student T-Distribution :  T-test\n",
    "\n",
    "* Consider u know pop mean and stddev. Given a sample, we can calculate zscore to test hypothesis.\n",
    "\n",
    "* $ z = \\frac{x - \\mu}{\\sigma} $ -> calculate pvalue from ztable -> compare it with significance value then -> reject/accept H0\n",
    "* What if you dont have $ \\mu, \\sigma $ -> Student T-Distribution\n",
    "* We can see if there is significant difference betw 2 sets of data\n",
    "* We cant compare just mean, so t-test compares sample variances also\n",
    "\n",
    "### 1-Sample t-test:\n",
    "* $ \\mu = \\bar x $\n",
    "* t-statistic = $\\frac{(x - \\mu)}{SE/\\sqrt{N}} $\n",
    "* we dont know pop stddev, otherwise it is similar to zstatistic. SE is sample standard error\n",
    "\n",
    "### 2-Sample t-test:\n",
    "    * Testing if two mean scores of two students samples have difference\n",
    "\n",
    "### Dependent, paired-sample t-test:\n",
    "    * Samples are dependent\n",
    "    * Involves taking samples repetition\n",
    "    * Check if students improved before prep and after prep\n",
    "\n",
    "\n"
   ],
   "cell_type": "markdown",
   "metadata": {}
  },
  {
   "cell_type": "code",
   "execution_count": 9,
   "metadata": {},
   "outputs": [
    {
     "output_type": "execute_result",
     "data": {
      "text/plain": [
       "0.06666666666666667"
      ]
     },
     "metadata": {},
     "execution_count": 9
    }
   ],
   "source": [
    "den = 0.04*0.6 + 0.96*0.35\n",
    "num = 0.6*0.04\n",
    "num/den"
   ]
  },
  {
   "cell_type": "code",
   "execution_count": null,
   "metadata": {},
   "outputs": [],
   "source": []
  }
 ]
}